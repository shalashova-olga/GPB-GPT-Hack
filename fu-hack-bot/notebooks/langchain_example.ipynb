{
 "cells": [
  {
   "cell_type": "code",
   "execution_count": null,
   "id": "fe579e8d",
   "metadata": {},
   "outputs": [
    {
     "name": "stdout",
     "output_type": "stream",
     "text": [
      "Привет! У меня всё отлично, спасибо, что спросили! Как я могу вам помочь сегодня? Готов отвечать на ваши вопросы, генерировать тексты, переводить, и вообще делать всё, что в моих силах. \n",
      "\n",
      "А как ваши дела? Надеюсь, у вас тоже всё хорошо!\n",
      "\n"
     ]
    }
   ],
   "source": [
    "from langchain_openai import ChatOpenAI\n",
    "from langchain_core.messages import HumanMessage, SystemMessage #для настраивания промта \n",
    "#можно использовать архитектуру ботов\n",
    "\n",
    "vllm_api_base = \"https://51.250.28.28:10000/gpb_gpt_hack_2025/v1\"\n",
    "\n",
    "llm = ChatOpenAI(\n",
    "    model=\"leon-se/gemma-3-27b-it-FP8-Dynamic\",\n",
    "    openai_api_base=vllm_api_base,\n",
    "    openai_api_key=\"EMPTY\",\n",
    "    temperature=0.7,\n",
    "    max_tokens=512,\n",
    ") #температуру можно настраивать \n",
    "pr = \"\"\"Ты HR-специалист. На основе диалога с кандидатом определи, подходит ли он на позицию [Позиция].\n",
    "Учти, что кандидат мог лгать или искажать информацию.\n",
    "Ответь в формате [Позиция] или [Некомпетентный соискатель].\"\"\"\n",
    "messages = [\n",
    "    SystemMessage(content=pr),\n",
    "    HumanMessage(content=prompt),\n",
    "]\n",
    "# системаный промт \n",
    "# \n",
    "response = llm.invoke(messages)\n",
    "print(response.content)"
   ]
  }
 ],
 "metadata": {
  "kernelspec": {
   "display_name": "gpb_gpt_hack",
   "language": "python",
   "name": "python3"
  },
  "language_info": {
   "codemirror_mode": {
    "name": "ipython",
    "version": 3
   },
   "file_extension": ".py",
   "mimetype": "text/x-python",
   "name": "python",
   "nbconvert_exporter": "python",
   "pygments_lexer": "ipython3",
   "version": "3.10.17"
  }
 },
 "nbformat": 4,
 "nbformat_minor": 5
}
