{
 "cells": [
  {
   "cell_type": "code",
   "execution_count": null,
   "id": "b10242d2",
   "metadata": {},
   "outputs": [],
   "source": [
    "import nest_asyncio\n",
    "#Нужно исключительно для работы в Jupyter Notebook\n",
    "nest_asyncio.apply()"
   ]
  },
  {
   "cell_type": "code",
   "execution_count": null,
   "id": "6d99fe92",
   "metadata": {},
   "outputs": [
    {
     "name": "stdout",
     "output_type": "stream",
     "text": [
      "(LLM)-> Привет! Рад познакомиться! Я здесь, чтобы помочь тебе. \n",
      "\n",
      "Чем я могу быть полезен сегодня? Задай мне вопрос, попроси написать текст, перевести что-нибудь, придумать идею или просто поболтать. Я постараюсь сделать все возможное!\n",
      "\n",
      "(LLM)-> Это отличный вопрос! Объяснение довольно интересное и связано с тем, как свет взаимодействует с атмосферой Земли. Вот упрощенная версия:\n",
      "\n",
      "* **Солнечный свет состоит из всех цветов радуги.** Когда солнечный свет попадает в атмосферу Земли, он сталкивается с мельчайшими частицами воздуха - молекулами азота и кислорода.\n",
      "* **Рассеяние Рэлея.** Этот процесс называется рассеянием Рэлея. Он заключается в том, что свет с более короткой длиной волны (синий и фиолетовый) рассеивается сильнее, чем свет с более длинной длиной волны (красный и оранжевый).\n",
      "* **Почему именно синий, а не фиолетовый?** Фиолетового света в солнечном спектре меньше, чем синего. К тому же, наши глаза менее чувствительны к фиолетовому цвету. Поэтому мы видим небо голубым.\n",
      "\n",
      "**Проще говоря:** Синий свет из солнечного света \"разбрасывается\" по всему небу, поэтому мы и видим его голубым.\n",
      "\n",
      "**А почему закаты и восходы красные или оранжевые?**  Когда солнце находится низко над горизонтом, свет проходит через большее количество атмосферы. Синий свет рассеивается еще больше, и до наших глаз доходит больше красного и оранжевого света.\n",
      "\n",
      "Надеюсь, это объяснение понятно! Если хочешь узнать больше, могу дать ссылки на более подробные ресурсы.\n",
      "\n"
     ]
    }
   ],
   "source": [
    "import asyncio\n",
    "from langchain_openai import ChatOpenAI\n",
    "from langchain_core.messages import HumanMessage, SystemMessage, AIMessage\n",
    "\n",
    "vllm_api_base = \"https://51.250.28.28:10000/gpb_gpt_hack_2025/v1\"\n",
    "\n",
    "llm = ChatOpenAI(\n",
    "    model=\"leon-se/gemma-3-27b-it-FP8-Dynamic\",\n",
    "    openai_api_base=vllm_api_base,\n",
    "    openai_api_key=\"EMPTY\",\n",
    "    temperature=0.7,\n",
    "    max_tokens=512,\n",
    ")\n",
    "\n",
    "async def start_chat():\n",
    "    history = [SystemMessage(content=\"Ты - полезный AI-ассистент.\"),]\n",
    "    while True:\n",
    "        new_message = input()\n",
    "        print(f\"(Пользователь)-> {new_message}\")\n",
    "        if new_message == 'конец':\n",
    "            break\n",
    "        history.append(HumanMessage(new_message))\n",
    "        responce = await llm.ainvoke(history)\n",
    "        history.append(AIMessage(responce.content))\n",
    "        print(f\"(LLM)-> {responce.content}\")\n",
    "\n",
    "asyncio.run(start_chat())"
   ]
  }
 ],
 "metadata": {
  "kernelspec": {
   "display_name": "gpb_gpt_hack",
   "language": "python",
   "name": "python3"
  },
  "language_info": {
   "codemirror_mode": {
    "name": "ipython",
    "version": 3
   },
   "file_extension": ".py",
   "mimetype": "text/x-python",
   "name": "python",
   "nbconvert_exporter": "python",
   "pygments_lexer": "ipython3",
   "version": "3.10.17"
  }
 },
 "nbformat": 4,
 "nbformat_minor": 5
}
